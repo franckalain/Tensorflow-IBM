{
  "nbformat": 4,
  "nbformat_minor": 0,
  "metadata": {
    "colab": {
      "name": "Tensorflow-Hello-World.ipynb",
      "version": "0.3.2",
      "provenance": [],
      "collapsed_sections": [],
      "include_colab_link": true
    },
    "kernelspec": {
      "name": "python3",
      "display_name": "Python 3"
    }
  },
  "cells": [
    {
      "cell_type": "markdown",
      "metadata": {
        "id": "view-in-github",
        "colab_type": "text"
      },
      "source": [
        "<a href=\"https://colab.research.google.com/github/franckalain/Tensorflow-IBM/blob/master/Introduction/Tensorflow_Hello_World.ipynb\" target=\"_parent\"><img src=\"https://colab.research.google.com/assets/colab-badge.svg\" alt=\"Open In Colab\"/></a>"
      ]
    },
    {
      "cell_type": "markdown",
      "metadata": {
        "id": "a7z9wyvyeNUI",
        "colab_type": "text"
      },
      "source": [
        "**Import tensorflow**\n",
        "\n",
        "To use TensorFlow, we need to import the library. We imported it and optionally gave it the name \"tf\", so the modules can be accessed by **tf.module-name**:"
      ]
    },
    {
      "cell_type": "code",
      "metadata": {
        "id": "b2BPSN5oeUI_",
        "colab_type": "code",
        "colab": {}
      },
      "source": [
        "import tensorflow as tf"
      ],
      "execution_count": 0,
      "outputs": []
    },
    {
      "cell_type": "markdown",
      "metadata": {
        "id": "PTXyPOedekc8",
        "colab_type": "text"
      },
      "source": [
        "**Building a Graph**\n",
        "\n",
        "As we said before, TensorFlow works as a graph computational model. Let's create our first graph which we named as graph1"
      ]
    },
    {
      "cell_type": "code",
      "metadata": {
        "id": "IGGd3V4menwO",
        "colab_type": "code",
        "colab": {}
      },
      "source": [
        "graph1 = tf.Graph()"
      ],
      "execution_count": 0,
      "outputs": []
    },
    {
      "cell_type": "markdown",
      "metadata": {
        "id": "8j9MSvP_e5hv",
        "colab_type": "text"
      },
      "source": [
        "Now we call the TensorFlow functions that construct new **tf.Operation** and **tf.Tensor** objects and add them to the graph1. As mentioned, each** tf.Operation **is a node and each** tf.Tensor** is an edge in the graph"
      ]
    },
    {
      "cell_type": "markdown",
      "metadata": {
        "id": "QhFnUj1YfPHP",
        "colab_type": "text"
      },
      "source": [
        "Lets add 2 constants to our graph. For example, calling **tf.constant([2], name = 'constant_a')** adds a single **tf.Operation** to the default graph. \n",
        "\n",
        "This operation produces the value 2, and returns a** tf.Tensor** that represents the value of the constant.\n",
        "\n",
        "Notice: **tf.constant([2], name=\"constant_a\") **creates a new tf.Operation named \"constant_a\" and returns a **tf.Tensor** named \"**constant_a:0**\"."
      ]
    },
    {
      "cell_type": "code",
      "metadata": {
        "id": "HMvVceUrfcha",
        "colab_type": "code",
        "colab": {}
      },
      "source": [
        "with graph1.as_default():\n",
        "  a = tf.constant([2], name = 'constant_a')\n",
        "  b = tf.constant([3], name = 'constant_b')"
      ],
      "execution_count": 0,
      "outputs": []
    },
    {
      "cell_type": "code",
      "metadata": {
        "id": "ujnW2eutgEOl",
        "colab_type": "code",
        "colab": {
          "base_uri": "https://localhost:8080/",
          "height": 34
        },
        "outputId": "e4c03e26-e1f4-4d0e-924c-2f19f41ca86b"
      },
      "source": [
        "a"
      ],
      "execution_count": 7,
      "outputs": [
        {
          "output_type": "execute_result",
          "data": {
            "text/plain": [
              "<tf.Tensor 'constant_a:0' shape=(1,) dtype=int32>"
            ]
          },
          "metadata": {
            "tags": []
          },
          "execution_count": 7
        }
      ]
    },
    {
      "cell_type": "code",
      "metadata": {
        "id": "xvkl6fYVgHJ-",
        "colab_type": "code",
        "colab": {
          "base_uri": "https://localhost:8080/",
          "height": 34
        },
        "outputId": "11d1510a-ffce-4090-b4ea-1947a357d23a"
      },
      "source": [
        "b"
      ],
      "execution_count": 8,
      "outputs": [
        {
          "output_type": "execute_result",
          "data": {
            "text/plain": [
              "<tf.Tensor 'constant_b:0' shape=(1,) dtype=int32>"
            ]
          },
          "metadata": {
            "tags": []
          },
          "execution_count": 8
        }
      ]
    },
    {
      "cell_type": "markdown",
      "metadata": {
        "id": "GtKDe95jgThO",
        "colab_type": "text"
      },
      "source": [
        "As you can see, it just show the name, shape and type of the tensor in the graph. We will see it's value when we run it in a TensorFlow session"
      ]
    },
    {
      "cell_type": "markdown",
      "metadata": {
        "id": "k1z6H45tg4XZ",
        "colab_type": "text"
      },
      "source": [
        "**Printing the value of a**"
      ]
    },
    {
      "cell_type": "code",
      "metadata": {
        "id": "kfs8V-oJgPS1",
        "colab_type": "code",
        "colab": {}
      },
      "source": [
        "sess = tf.Session(graph = graph1)\n",
        "result = sess.run(a)\n",
        "c = a + b"
      ],
      "execution_count": 0,
      "outputs": []
    },
    {
      "cell_type": "markdown",
      "metadata": {
        "id": "rYTw4nPYsAm2",
        "colab_type": "text"
      },
      "source": [
        "Then TensorFlow needs to initialize a session to run our code. Sessions are, in a way, a context for creating a graph inside TensorFlow. Let's define our session:"
      ]
    },
    {
      "cell_type": "code",
      "metadata": {
        "id": "2X-hTBS7r83X",
        "colab_type": "code",
        "colab": {}
      },
      "source": [
        "sess = tf.Session(graph = graph1)"
      ],
      "execution_count": 0,
      "outputs": []
    },
    {
      "cell_type": "markdown",
      "metadata": {
        "id": "umr6DMKNsecB",
        "colab_type": "text"
      },
      "source": [
        "Let's run the session to get the result from the previous defined 'c' operation:"
      ]
    },
    {
      "cell_type": "code",
      "metadata": {
        "id": "hdioktNPsZcE",
        "colab_type": "code",
        "colab": {
          "base_uri": "https://localhost:8080/",
          "height": 34
        },
        "outputId": "69f0e66a-c48e-4a4b-f9ed-21ba989cdfe6"
      },
      "source": [
        "result = sess.run(c)\n",
        "print(result)"
      ],
      "execution_count": 14,
      "outputs": [
        {
          "output_type": "stream",
          "text": [
            "[5]\n"
          ],
          "name": "stdout"
        }
      ]
    },
    {
      "cell_type": "markdown",
      "metadata": {
        "id": "0njtGtkHszC-",
        "colab_type": "text"
      },
      "source": [
        "**Close the session to release resources**"
      ]
    },
    {
      "cell_type": "code",
      "metadata": {
        "id": "nZMAlMnesryA",
        "colab_type": "code",
        "colab": {}
      },
      "source": [
        "sess.close()"
      ],
      "execution_count": 0,
      "outputs": []
    },
    {
      "cell_type": "markdown",
      "metadata": {
        "id": "sbk7-_pktHFI",
        "colab_type": "text"
      },
      "source": [
        "To avoid having to close sessions every time, we can define them in a **with block**, so after running the with block the session will close automatically:"
      ]
    },
    {
      "cell_type": "code",
      "metadata": {
        "id": "pPlHTkjzs6Xv",
        "colab_type": "code",
        "colab": {
          "base_uri": "https://localhost:8080/",
          "height": 34
        },
        "outputId": "6922d2cf-caeb-4d5c-a13e-fc99b3b0d41f"
      },
      "source": [
        "with tf.Session(graph = graph1) as sess:\n",
        "  result = sess.run(c)\n",
        "  print(result)\n",
        "  "
      ],
      "execution_count": 17,
      "outputs": [
        {
          "output_type": "stream",
          "text": [
            "[5]\n"
          ],
          "name": "stdout"
        }
      ]
    },
    {
      "cell_type": "code",
      "metadata": {
        "id": "l_tdwUPs0hkK",
        "colab_type": "code",
        "colab": {}
      },
      "source": [
        ""
      ],
      "execution_count": 0,
      "outputs": []
    }
  ]
}